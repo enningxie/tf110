{
 "cells": [
  {
   "cell_type": "markdown",
   "metadata": {},
   "source": [
    "### Custom layers"
   ]
  },
  {
   "cell_type": "code",
   "execution_count": 1,
   "metadata": {},
   "outputs": [],
   "source": [
    "import tensorflow as tf\n",
    "import tensorflow.contrib.eager as tfe"
   ]
  },
  {
   "cell_type": "code",
   "execution_count": 2,
   "metadata": {},
   "outputs": [],
   "source": [
    "tf.enable_eager_execution()"
   ]
  },
  {
   "cell_type": "code",
   "execution_count": 4,
   "metadata": {},
   "outputs": [],
   "source": [
    "# Layers: common sets of useful operations\n",
    "# In the tf.keras.layers package, layers are objects. to construct a layer,\n",
    "# simply contruct the object. most layers take as a first argument the number of \n",
    "# ouput dimensions / channels.\n",
    "layer = tf.keras.layers.Dense(100)\n",
    "# the number of input dimensions is often unnecessary, as it can be inferred\n",
    "# the first time the layer used, but it can be provided if you want to \n",
    "# specify it manually, which is useful in some complex models.\n",
    "layer = tf.keras.layers.Dense(10, input_shape=(None, 5))"
   ]
  },
  {
   "cell_type": "code",
   "execution_count": 5,
   "metadata": {},
   "outputs": [
    {
     "data": {
      "text/plain": [
       "<tf.Tensor: id=30, shape=(10, 10), dtype=float32, numpy=\n",
       "array([[0., 0., 0., 0., 0., 0., 0., 0., 0., 0.],\n",
       "       [0., 0., 0., 0., 0., 0., 0., 0., 0., 0.],\n",
       "       [0., 0., 0., 0., 0., 0., 0., 0., 0., 0.],\n",
       "       [0., 0., 0., 0., 0., 0., 0., 0., 0., 0.],\n",
       "       [0., 0., 0., 0., 0., 0., 0., 0., 0., 0.],\n",
       "       [0., 0., 0., 0., 0., 0., 0., 0., 0., 0.],\n",
       "       [0., 0., 0., 0., 0., 0., 0., 0., 0., 0.],\n",
       "       [0., 0., 0., 0., 0., 0., 0., 0., 0., 0.],\n",
       "       [0., 0., 0., 0., 0., 0., 0., 0., 0., 0.],\n",
       "       [0., 0., 0., 0., 0., 0., 0., 0., 0., 0.]], dtype=float32)>"
      ]
     },
     "execution_count": 5,
     "metadata": {},
     "output_type": "execute_result"
    }
   ],
   "source": [
    "# To use a layer, simply call it\n",
    "layer(tf.zeros([10, 5]))"
   ]
  },
  {
   "cell_type": "code",
   "execution_count": 6,
   "metadata": {},
   "outputs": [
    {
     "data": {
      "text/plain": [
       "[<tf.Variable 'dense_3/kernel:0' shape=(5, 10) dtype=float32, numpy=\n",
       " array([[ 0.06401575,  0.14362425,  0.59677035, -0.11977607,  0.0079816 ,\n",
       "          0.47780448,  0.23626924,  0.21693671,  0.50511616,  0.01997006],\n",
       "        [-0.48665026, -0.3286733 , -0.5390564 , -0.10435969,  0.330172  ,\n",
       "          0.5658696 , -0.5130405 , -0.00140071, -0.4196869 , -0.06027919],\n",
       "        [ 0.42531365, -0.33070683, -0.4918769 ,  0.47336394,  0.20002103,\n",
       "         -0.16844052, -0.57393634, -0.12991405,  0.20814979,  0.2425353 ],\n",
       "        [ 0.16692674,  0.2036804 , -0.21104601, -0.0700773 , -0.06780523,\n",
       "          0.50103754,  0.38384598,  0.18435329, -0.5712487 ,  0.14806831],\n",
       "        [ 0.4653178 ,  0.6107562 ,  0.09184206, -0.52241427,  0.38143653,\n",
       "         -0.48524657, -0.22209537, -0.36559778, -0.33325112, -0.34652388]],\n",
       "       dtype=float32)>,\n",
       " <tf.Variable 'dense_3/bias:0' shape=(10,) dtype=float32, numpy=array([0., 0., 0., 0., 0., 0., 0., 0., 0., 0.], dtype=float32)>]"
      ]
     },
     "execution_count": 6,
     "metadata": {},
     "output_type": "execute_result"
    }
   ],
   "source": [
    "# layers have many useful methods. for example, you can inspect all variables in\n",
    "# a layer by calling layer.variables, in this case a fully-connected layer will\n",
    "# have vatiables for weights and biases.\n",
    "layer.variables"
   ]
  },
  {
   "cell_type": "code",
   "execution_count": 9,
   "metadata": {},
   "outputs": [
    {
     "data": {
      "text/plain": [
       "(<tf.Variable 'dense_3/kernel:0' shape=(5, 10) dtype=float32, numpy=\n",
       " array([[ 0.06401575,  0.14362425,  0.59677035, -0.11977607,  0.0079816 ,\n",
       "          0.47780448,  0.23626924,  0.21693671,  0.50511616,  0.01997006],\n",
       "        [-0.48665026, -0.3286733 , -0.5390564 , -0.10435969,  0.330172  ,\n",
       "          0.5658696 , -0.5130405 , -0.00140071, -0.4196869 , -0.06027919],\n",
       "        [ 0.42531365, -0.33070683, -0.4918769 ,  0.47336394,  0.20002103,\n",
       "         -0.16844052, -0.57393634, -0.12991405,  0.20814979,  0.2425353 ],\n",
       "        [ 0.16692674,  0.2036804 , -0.21104601, -0.0700773 , -0.06780523,\n",
       "          0.50103754,  0.38384598,  0.18435329, -0.5712487 ,  0.14806831],\n",
       "        [ 0.4653178 ,  0.6107562 ,  0.09184206, -0.52241427,  0.38143653,\n",
       "         -0.48524657, -0.22209537, -0.36559778, -0.33325112, -0.34652388]],\n",
       "       dtype=float32)>,\n",
       " <tf.Variable 'dense_3/bias:0' shape=(10,) dtype=float32, numpy=array([0., 0., 0., 0., 0., 0., 0., 0., 0., 0.], dtype=float32)>)"
      ]
     },
     "execution_count": 9,
     "metadata": {},
     "output_type": "execute_result"
    }
   ],
   "source": [
    "# the variables are also accessible through nice accessors\n",
    "layer.kernel, layer.bias"
   ]
  },
  {
   "cell_type": "code",
   "execution_count": 11,
   "metadata": {},
   "outputs": [
    {
     "name": "stdout",
     "output_type": "stream",
     "text": [
      "tf.Tensor(\n",
      "[[0. 0. 0. 0. 0. 0. 0. 0. 0. 0.]\n",
      " [0. 0. 0. 0. 0. 0. 0. 0. 0. 0.]\n",
      " [0. 0. 0. 0. 0. 0. 0. 0. 0. 0.]\n",
      " [0. 0. 0. 0. 0. 0. 0. 0. 0. 0.]\n",
      " [0. 0. 0. 0. 0. 0. 0. 0. 0. 0.]\n",
      " [0. 0. 0. 0. 0. 0. 0. 0. 0. 0.]\n",
      " [0. 0. 0. 0. 0. 0. 0. 0. 0. 0.]\n",
      " [0. 0. 0. 0. 0. 0. 0. 0. 0. 0.]\n",
      " [0. 0. 0. 0. 0. 0. 0. 0. 0. 0.]\n",
      " [0. 0. 0. 0. 0. 0. 0. 0. 0. 0.]], shape=(10, 10), dtype=float32)\n",
      "[<tf.Variable 'my_dense_layer/kernel:0' shape=(5, 10) dtype=float32, numpy=\n",
      "array([[-0.58138657,  0.24897552, -0.04616696, -0.2143679 , -0.3425806 ,\n",
      "         0.06120473,  0.3705284 , -0.6223701 ,  0.07423669,  0.41329616],\n",
      "       [-0.04668128,  0.282467  ,  0.21983474, -0.20020893,  0.35261256,\n",
      "        -0.5524509 ,  0.04037005,  0.05408776, -0.5731471 , -0.48651877],\n",
      "       [ 0.39086443, -0.07081753,  0.09407705,  0.3160625 ,  0.56485754,\n",
      "         0.09129995,  0.54359883, -0.03128153, -0.41091716, -0.51546985],\n",
      "       [-0.49866408,  0.55272156,  0.4355901 , -0.15723947, -0.5633368 ,\n",
      "        -0.6024993 , -0.24919716,  0.22703701,  0.14036661,  0.3696733 ],\n",
      "       [ 0.20480317,  0.34467667,  0.46161097, -0.24042997, -0.388286  ,\n",
      "         0.32862836,  0.2743284 ,  0.14234161, -0.11292523,  0.63112134]],\n",
      "      dtype=float32)>]\n"
     ]
    }
   ],
   "source": [
    "# Inplementing custom layers\n",
    "class MyDenseLayer(tf.keras.layers.Layer):\n",
    "    def __init__(self, num_outputs):\n",
    "        super(MyDenseLayer, self).__init__()\n",
    "        self.num_outputs = num_outputs\n",
    "    \n",
    "    def build(self, input_shape):\n",
    "        self.kernel = self.add_variable('kernel', shape=[input_shape[-1].value, self.num_outputs])\n",
    "        \n",
    "    def call(self, input):\n",
    "        return tf.matmul(input, self.kernel)\n",
    "\n",
    "layer = MyDenseLayer(10)\n",
    "print(layer(tf.zeros([10, 5])))\n",
    "print(layer.variables)"
   ]
  },
  {
   "cell_type": "code",
   "execution_count": 12,
   "metadata": {},
   "outputs": [
    {
     "name": "stdout",
     "output_type": "stream",
     "text": [
      "tf.Tensor(\n",
      "[[[[0. 0. 0.]\n",
      "   [0. 0. 0.]\n",
      "   [0. 0. 0.]]\n",
      "\n",
      "  [[0. 0. 0.]\n",
      "   [0. 0. 0.]\n",
      "   [0. 0. 0.]]]], shape=(1, 2, 3, 3), dtype=float32)\n",
      "['resnet_identity_block/conv2d/kernel:0', 'resnet_identity_block/conv2d/bias:0', 'resnet_identity_block/batch_normalization/gamma:0', 'resnet_identity_block/batch_normalization/beta:0', 'resnet_identity_block/conv2d_1/kernel:0', 'resnet_identity_block/conv2d_1/bias:0', 'resnet_identity_block/batch_normalization_1/gamma:0', 'resnet_identity_block/batch_normalization_1/beta:0', 'resnet_identity_block/conv2d_2/kernel:0', 'resnet_identity_block/conv2d_2/bias:0', 'resnet_identity_block/batch_normalization_2/gamma:0', 'resnet_identity_block/batch_normalization_2/beta:0', 'resnet_identity_block/batch_normalization/moving_mean:0', 'resnet_identity_block/batch_normalization/moving_variance:0', 'resnet_identity_block/batch_normalization_1/moving_mean:0', 'resnet_identity_block/batch_normalization_1/moving_variance:0', 'resnet_identity_block/batch_normalization_2/moving_mean:0', 'resnet_identity_block/batch_normalization_2/moving_variance:0']\n"
     ]
    }
   ],
   "source": [
    "# Models: composing layers\n",
    "class ResnetIdentityBlock(tf.keras.Model):\n",
    "    def __init__(self, kernel_size, filters):\n",
    "        super(ResnetIdentityBlock, self).__init__()\n",
    "        filters1, filters2, filters3 = filters\n",
    "        \n",
    "        self.conv2a = tf.keras.layers.Conv2D(filters1, (1, 1))\n",
    "        self.bn2a = tf.keras.layers.BatchNormalization()\n",
    "        \n",
    "        self.conv2b = tf.keras.layers.Conv2D(filters2, kernel_size, padding='same')\n",
    "        self.bn2b = tf.keras.layers.BatchNormalization()\n",
    "        \n",
    "        self.conv2c = tf.keras.layers.Conv2D(filters3, (1, 1))\n",
    "        self.bn2c = tf.keras.layers.BatchNormalization()\n",
    "        \n",
    "    def call(self, input_tensor, training=False):\n",
    "        x = self.conv2a(input_tensor)\n",
    "        x = self.bn2a(x, training=training)\n",
    "        x = tf.nn.relu(x)\n",
    "        \n",
    "        x = self.conv2b(x)\n",
    "        x = self.bn2b(x, training=training)\n",
    "        x = tf.nn.relu(x)\n",
    "        \n",
    "        x = self.conv2c(x)\n",
    "        x = self.bn2c(x, training=training)\n",
    "        \n",
    "        x += input_tensor\n",
    "        return tf.nn.relu(x)\n",
    "    \n",
    "block = ResnetIdentityBlock(1, [1, 2, 3])\n",
    "print(block(tf.zeros([1, 2, 3, 3])))\n",
    "print([x.name for x in block.variables])"
   ]
  },
  {
   "cell_type": "code",
   "execution_count": 13,
   "metadata": {},
   "outputs": [
    {
     "data": {
      "text/plain": [
       "<tf.Tensor: id=514, shape=(1, 2, 3, 3), dtype=float32, numpy=\n",
       "array([[[[0., 0., 0.],\n",
       "         [0., 0., 0.],\n",
       "         [0., 0., 0.]],\n",
       "\n",
       "        [[0., 0., 0.],\n",
       "         [0., 0., 0.],\n",
       "         [0., 0., 0.]]]], dtype=float32)>"
      ]
     },
     "execution_count": 13,
     "metadata": {},
     "output_type": "execute_result"
    }
   ],
   "source": [
    "my_seq = tf.keras.Sequential([\n",
    "    tf.keras.layers.Conv2D(1, (1, 1)),\n",
    "    tf.keras.layers.BatchNormalization(),\n",
    "    tf.keras.layers.Conv2D(2, 1, padding='same'),\n",
    "    tf.keras.layers.BatchNormalization(),\n",
    "    tf.keras.layers.Conv2D(3, (1, 1)),\n",
    "    tf.keras.layers.BatchNormalization()\n",
    "])\n",
    "\n",
    "my_seq(tf.zeros([1, 2, 3, 3]))"
   ]
  }
 ],
 "metadata": {
  "kernelspec": {
   "display_name": "Python 3",
   "language": "python",
   "name": "python3"
  },
  "language_info": {
   "codemirror_mode": {
    "name": "ipython",
    "version": 3
   },
   "file_extension": ".py",
   "mimetype": "text/x-python",
   "name": "python",
   "nbconvert_exporter": "python",
   "pygments_lexer": "ipython3",
   "version": "3.6.2"
  }
 },
 "nbformat": 4,
 "nbformat_minor": 2
}
